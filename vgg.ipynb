{
 "cells": [
  {
   "cell_type": "code",
   "execution_count": 124,
   "metadata": {},
   "outputs": [],
   "source": [
    "import shutil\n",
    "import os\n",
    "import keras\n",
    "from keras.models import Sequential\n",
    "from keras.layers import Conv2D, MaxPooling2D\n",
    "from keras.layers import Activation, Dropout, Flatten, Dense\n",
    "from keras.optimizers import Adam\n",
    "from keras.callbacks import TensorBoard\n",
    "#from keras.layers.convolutional import Convolution2D\n",
    "from keras import optimizers\n",
    "from keras.preprocessing.image import ImageDataGenerator\n",
    "from keras import applications\n",
    "import numpy as np\n",
    "import matplotlib.pyplot as plt\n",
    "import keras.preprocessing.image as kim\n",
    "from shutil import copyfile\n",
    "from scipy.misc import imsave,imresize, imread\n",
    "import pandas as pd\n"
   ]
  },
  {
   "cell_type": "code",
   "execution_count": 148,
   "metadata": {},
   "outputs": [],
   "source": [
    "image_height = 128\n",
    "image_width = 128\n",
    "samples_per_epoch = 128\n",
    "validation_steps = 4\n",
    "no_of_classes = 30\n",
    "epochs=20\n",
    "batch_size=64\n",
    "train_data_path='pretrained_test/augmented_train_final1/'\n",
    "validation_data_path='pretrained_valid/augmented_valid_final/'\n",
    "#top_model_weights_path=r'/C:\\Users\\pooja\\AnacondaProjects\\ML project\\vggvgg16_weights_tf_dim_ordering_tf_kernels_notop.h5'"
   ]
  },
  {
   "cell_type": "code",
   "execution_count": 149,
   "metadata": {},
   "outputs": [],
   "source": [
    "\n",
    "model = applications.VGG16(weights='imagenet', include_top=False,input_shape = (128,128,3))\n"
   ]
  },
  {
   "cell_type": "code",
   "execution_count": 150,
   "metadata": {},
   "outputs": [
    {
     "data": {
      "text/plain": [
       "keras.engine.training.Model"
      ]
     },
     "execution_count": 150,
     "metadata": {},
     "output_type": "execute_result"
    }
   ],
   "source": [
    "type(model)"
   ]
  },
  {
   "cell_type": "code",
   "execution_count": 151,
   "metadata": {},
   "outputs": [
    {
     "name": "stdout",
     "output_type": "stream",
     "text": [
      "_________________________________________________________________\n",
      "Layer (type)                 Output Shape              Param #   \n",
      "=================================================================\n",
      "input_11 (InputLayer)        (None, 128, 128, 3)       0         \n",
      "_________________________________________________________________\n",
      "block1_conv1 (Conv2D)        (None, 128, 128, 64)      1792      \n",
      "_________________________________________________________________\n",
      "block1_conv2 (Conv2D)        (None, 128, 128, 64)      36928     \n",
      "_________________________________________________________________\n",
      "block1_pool (MaxPooling2D)   (None, 64, 64, 64)        0         \n",
      "_________________________________________________________________\n",
      "block2_conv1 (Conv2D)        (None, 64, 64, 128)       73856     \n",
      "_________________________________________________________________\n",
      "block2_conv2 (Conv2D)        (None, 64, 64, 128)       147584    \n",
      "_________________________________________________________________\n",
      "block2_pool (MaxPooling2D)   (None, 32, 32, 128)       0         \n",
      "_________________________________________________________________\n",
      "block3_conv1 (Conv2D)        (None, 32, 32, 256)       295168    \n",
      "_________________________________________________________________\n",
      "block3_conv2 (Conv2D)        (None, 32, 32, 256)       590080    \n",
      "_________________________________________________________________\n",
      "block3_conv3 (Conv2D)        (None, 32, 32, 256)       590080    \n",
      "_________________________________________________________________\n",
      "block3_pool (MaxPooling2D)   (None, 16, 16, 256)       0         \n",
      "_________________________________________________________________\n",
      "block4_conv1 (Conv2D)        (None, 16, 16, 512)       1180160   \n",
      "_________________________________________________________________\n",
      "block4_conv2 (Conv2D)        (None, 16, 16, 512)       2359808   \n",
      "_________________________________________________________________\n",
      "block4_conv3 (Conv2D)        (None, 16, 16, 512)       2359808   \n",
      "_________________________________________________________________\n",
      "block4_pool (MaxPooling2D)   (None, 8, 8, 512)         0         \n",
      "_________________________________________________________________\n",
      "block5_conv1 (Conv2D)        (None, 8, 8, 512)         2359808   \n",
      "_________________________________________________________________\n",
      "block5_conv2 (Conv2D)        (None, 8, 8, 512)         2359808   \n",
      "_________________________________________________________________\n",
      "block5_conv3 (Conv2D)        (None, 8, 8, 512)         2359808   \n",
      "_________________________________________________________________\n",
      "block5_pool (MaxPooling2D)   (None, 4, 4, 512)         0         \n",
      "=================================================================\n",
      "Total params: 14,714,688\n",
      "Trainable params: 14,714,688\n",
      "Non-trainable params: 0\n",
      "_________________________________________________________________\n"
     ]
    }
   ],
   "source": [
    "model.summary()"
   ]
  },
  {
   "cell_type": "code",
   "execution_count": 152,
   "metadata": {},
   "outputs": [],
   "source": [
    "top_model = Sequential()\n",
    "top_model.add(model)\n",
    "top_model.add(Flatten(input_shape=model.output_shape[1:]))\n",
    "top_model.add(Dense(512, activation='relu'))\n",
    "top_model.add(Dropout(0.5))\n",
    "top_model.add(Dense(30, activation='softmax'))"
   ]
  },
  {
   "cell_type": "code",
   "execution_count": null,
   "metadata": {},
   "outputs": [],
   "source": []
  },
  {
   "cell_type": "code",
   "execution_count": 153,
   "metadata": {},
   "outputs": [],
   "source": [
    "#top_model.load_weights(top_model_weights_path)"
   ]
  },
  {
   "cell_type": "code",
   "execution_count": null,
   "metadata": {},
   "outputs": [],
   "source": []
  },
  {
   "cell_type": "code",
   "execution_count": 154,
   "metadata": {},
   "outputs": [],
   "source": [
    "for layer in model.layers[:19]:\n",
    "    layer.trainable = False"
   ]
  },
  {
   "cell_type": "code",
   "execution_count": 155,
   "metadata": {},
   "outputs": [
    {
     "name": "stdout",
     "output_type": "stream",
     "text": [
      "Found 409 images belonging to 30 classes.\n",
      "Found 143 images belonging to 30 classes.\n"
     ]
    }
   ],
   "source": [
    "\n",
    "train_images = ImageDataGenerator(\n",
    "    rescale=1. / 255)\n",
    "\n",
    "validate_images = ImageDataGenerator(rescale=1. / 255)\n",
    "\n",
    "train_generator = train_images.flow_from_directory(\n",
    "    train_data_path,\n",
    "    target_size=(image_height, image_width),\n",
    "    batch_size=batch_size,\n",
    "    class_mode='categorical')\n",
    "\n",
    "validation_generator = validate_images.flow_from_directory(\n",
    "    validation_data_path,\n",
    "    target_size=(image_height, image_width),\n",
    "    batch_size=batch_size,\n",
    "    class_mode='categorical')"
   ]
  },
  {
   "cell_type": "code",
   "execution_count": 156,
   "metadata": {},
   "outputs": [
    {
     "name": "stdout",
     "output_type": "stream",
     "text": [
      "_________________________________________________________________\n",
      "Layer (type)                 Output Shape              Param #   \n",
      "=================================================================\n",
      "vgg16 (Model)                (None, 4, 4, 512)         14714688  \n",
      "_________________________________________________________________\n",
      "flatten_11 (Flatten)         (None, 8192)              0         \n",
      "_________________________________________________________________\n",
      "dense_21 (Dense)             (None, 512)               4194816   \n",
      "_________________________________________________________________\n",
      "dropout_11 (Dropout)         (None, 512)               0         \n",
      "_________________________________________________________________\n",
      "dense_22 (Dense)             (None, 30)                15390     \n",
      "=================================================================\n",
      "Total params: 18,924,894\n",
      "Trainable params: 4,210,206\n",
      "Non-trainable params: 14,714,688\n",
      "_________________________________________________________________\n"
     ]
    }
   ],
   "source": [
    "top_model.summary()"
   ]
  },
  {
   "cell_type": "code",
   "execution_count": 157,
   "metadata": {},
   "outputs": [],
   "source": [
    "top_model.compile(loss='categorical_crossentropy',\n",
    "              optimizer=optimizers.RMSprop(lr=0.001),\n",
    "              metrics=['accuracy'])\n"
   ]
  },
  {
   "cell_type": "code",
   "execution_count": 158,
   "metadata": {},
   "outputs": [
    {
     "name": "stderr",
     "output_type": "stream",
     "text": [
      "/usr/local/lib/python3.5/dist-packages/ipykernel_launcher.py:7: UserWarning: Update your `fit_generator` call to the Keras 2 API: `fit_generator(<keras.pre..., steps_per_epoch=2, validation_steps=4, validation_data=<keras.pre..., epochs=20)`\n",
      "  import sys\n"
     ]
    },
    {
     "name": "stdout",
     "output_type": "stream",
     "text": [
      "Epoch 1/20\n",
      "2/2 [==============================] - 51s 25s/step - loss: 6.7399 - acc: 0.0358 - val_loss: 6.3781 - val_acc: 0.0338\n",
      "Epoch 2/20\n",
      "2/2 [==============================] - 57s 29s/step - loss: 8.7021 - acc: 0.0547 - val_loss: 4.6358 - val_acc: 0.0773\n",
      "Epoch 3/20\n",
      "2/2 [==============================] - 57s 29s/step - loss: 6.2239 - acc: 0.0859 - val_loss: 4.0742 - val_acc: 0.0628\n",
      "Epoch 4/20\n",
      "2/2 [==============================] - 51s 25s/step - loss: 5.0649 - acc: 0.0358 - val_loss: 3.3736 - val_acc: 0.1643\n",
      "Epoch 5/20\n",
      "2/2 [==============================] - 57s 29s/step - loss: 3.7732 - acc: 0.0781 - val_loss: 2.9665 - val_acc: 0.1981\n",
      "Epoch 6/20\n",
      "2/2 [==============================] - 57s 29s/step - loss: 3.0603 - acc: 0.1953 - val_loss: 3.0280 - val_acc: 0.1787\n",
      "Epoch 7/20\n",
      "2/2 [==============================] - 58s 29s/step - loss: 2.7908 - acc: 0.2656 - val_loss: 2.8963 - val_acc: 0.1836\n",
      "Epoch 8/20\n",
      "2/2 [==============================] - 58s 29s/step - loss: 2.4898 - acc: 0.2734 - val_loss: 2.8839 - val_acc: 0.2174\n",
      "Epoch 9/20\n",
      "2/2 [==============================] - 57s 29s/step - loss: 2.8626 - acc: 0.1953 - val_loss: 2.9871 - val_acc: 0.2319\n",
      "Epoch 10/20\n",
      "2/2 [==============================] - 51s 25s/step - loss: 2.9401 - acc: 0.1749 - val_loss: 2.9294 - val_acc: 0.2126\n",
      "Epoch 11/20\n",
      "2/2 [==============================] - 51s 25s/step - loss: 2.6315 - acc: 0.2872 - val_loss: 2.8575 - val_acc: 0.1787\n",
      "Epoch 12/20\n",
      "2/2 [==============================] - 58s 29s/step - loss: 2.4353 - acc: 0.3047 - val_loss: 2.7042 - val_acc: 0.2705\n",
      "Epoch 13/20\n",
      "2/2 [==============================] - 58s 29s/step - loss: 2.3734 - acc: 0.3438 - val_loss: 2.7103 - val_acc: 0.2415\n",
      "Epoch 14/20\n",
      "2/2 [==============================] - 58s 29s/step - loss: 2.2588 - acc: 0.3438 - val_loss: 2.8468 - val_acc: 0.1932\n",
      "Epoch 15/20\n",
      "2/2 [==============================] - 57s 29s/step - loss: 2.4091 - acc: 0.2969 - val_loss: 2.5747 - val_acc: 0.3092\n",
      "Epoch 16/20\n",
      "2/2 [==============================] - 57s 29s/step - loss: 1.9369 - acc: 0.4844 - val_loss: 2.5791 - val_acc: 0.2899\n",
      "Epoch 17/20\n",
      "2/2 [==============================] - 51s 25s/step - loss: 1.9057 - acc: 0.4736 - val_loss: 2.5162 - val_acc: 0.2754\n",
      "Epoch 18/20\n",
      "2/2 [==============================] - 58s 29s/step - loss: 2.1794 - acc: 0.4062 - val_loss: 2.6654 - val_acc: 0.2947\n",
      "Epoch 19/20\n",
      "2/2 [==============================] - 51s 25s/step - loss: 1.7639 - acc: 0.5679 - val_loss: 2.5684 - val_acc: 0.3382\n",
      "Epoch 20/20\n",
      "2/2 [==============================] - 57s 29s/step - loss: 1.9007 - acc: 0.4453 - val_loss: 2.3700 - val_acc: 0.3527\n"
     ]
    }
   ],
   "source": [
    "history=top_model.fit_generator(\n",
    "    train_generator,\n",
    "    samples_per_epoch=samples_per_epoch,\n",
    "    epochs=20,\n",
    "    validation_data=validation_generator,\n",
    "   #callbacks=[tensorboard],\n",
    "    validation_steps=validation_steps\n",
    ")"
   ]
  },
  {
   "cell_type": "code",
   "execution_count": 118,
   "metadata": {},
   "outputs": [
    {
     "data": {
      "text/plain": [
       "<keras.callbacks.History at 0x7f8c8b1a0ef0>"
      ]
     },
     "execution_count": 118,
     "metadata": {},
     "output_type": "execute_result"
    }
   ],
   "source": [
    "keras.callbacks.History()"
   ]
  },
  {
   "cell_type": "code",
   "execution_count": 159,
   "metadata": {
    "scrolled": true
   },
   "outputs": [
    {
     "data": {
      "image/png": "[encoded data removed]",
      "text/plain": [
       "<Figure size 432x288 with 1 Axes>"
      ]
     },
     "metadata": {},
     "output_type": "display_data"
    },
    {
     "data": {
      "image/png": "[encoded data removed]",
      "text/plain": [
       "<Figure size 432x288 with 1 Axes>"
      ]
     },
     "metadata": {},
     "output_type": "display_data"
    }
   ],
   "source": [
    "plt.plot(history.history['acc'])\n",
    "plt.plot(history.history['val_acc'])\n",
    "plt.title('model accuracy')\n",
    "plt.ylabel('accuracy')\n",
    "plt.xlabel('epoch')\n",
    "plt.legend(['train', 'test'], loc='upper left')\n",
    "plt.show()\n",
    "plt.plot(history.history['loss'])\n",
    "plt.plot(history.history['val_loss'])\n",
    "plt.title('model loss')\n",
    "plt.ylabel('loss')\n",
    "plt.xlabel('epoch')\n",
    "plt.legend(['train', 'test'], loc='upper right')\n",
    "plt.show()"
   ]
  },
  {
   "cell_type": "code",
   "execution_count": null,
   "metadata": {},
   "outputs": [],
   "source": []
  }
 ],
 "metadata": {
  "kernelspec": {
   "display_name": "Python 3",
   "language": "python",
   "name": "python3"
  },
  "language_info": {
   "codemirror_mode": {
    "name": "ipython",
    "version": 3
   },
   "file_extension": ".py",
   "mimetype": "text/x-python",
   "name": "python",
   "nbconvert_exporter": "python",
   "pygments_lexer": "ipython3",
   "version": "3.5.2"
  }
 },
 "nbformat": 4,
 "nbformat_minor": 2
}

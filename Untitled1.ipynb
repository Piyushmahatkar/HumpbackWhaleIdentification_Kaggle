{
 "cells": [
  {
   "cell_type": "code",
   "execution_count": 23,
   "metadata": {},
   "outputs": [],
   "source": [
    "import os\n",
    "import numpy as np\n",
    "import matplotlib.pyplot as plt\n",
    "import keras.preprocessing.image as kim\n",
    "from shutil import copyfile\n",
    "from scipy.misc import imsave"
   ]
  },
  {
   "cell_type": "code",
   "execution_count": 1,
   "metadata": {},
   "outputs": [],
   "source": [
    "base_data_path = ''\n",
    "train_data_path = 'train'\n",
    "valid_data_path = 'train'\n",
    "augmented_train_data_path = 'pretrained_test/augmented_train_final1/'\n",
    "augmented_valid_data_path = 'pretrained_valid/augmented_valid_final/'\n",
    "image_height = 128\n",
    "image_width = 128"
   ]
  },
  {
   "cell_type": "code",
   "execution_count": 30,
   "metadata": {},
   "outputs": [],
   "source": [
    "def read_labels(labels_file):\n",
    "    \n",
    "    label_mappings = {}  # initialize to empty dictionary\n",
    "    with open(labels_file, 'r') as lab_file:\n",
    "        _ = lab_file.readline()  # ignore the header of the file\n",
    "        for line in lab_file:\n",
    "            img_name, img_label = line.strip().split(',')\n",
    "            # add these to the label_mappings\n",
    "            label_mappings[img_name] = img_label\n",
    "\n",
    "    # return the label_mappings so generated\n",
    "    return label_mappings"
   ]
  },
  {
   "cell_type": "code",
   "execution_count": 31,
   "metadata": {},
   "outputs": [],
   "source": [
    "import numpy as np\n",
    "\n",
    "\n",
    "def read_image(file_path, dim=None, d_type=np.float32,\n",
    "               highest_pix_value=255):\n",
    "   \n",
    "    from scipy.misc import imresize, imread\n",
    "\n",
    "    image = np.array(imread(file_path), dtype=d_type)\n",
    "\n",
    "    # validate the image format:\n",
    "    if len(image.shape) < 3 or image.shape[-1] < 3:\n",
    "        image = np.squeeze(image)\n",
    "        image = np.stack((image,) * 3, axis=-1)\n",
    "\n",
    "    elif image.shape[-1] > 3:\n",
    "        image = image[:, :, :3]  # ignore the last alpha channel\n",
    "\n",
    "    # now resize the image\n",
    "    if dim is not None:\n",
    "        # find the maximum height and width among all the images\n",
    "        image = imresize(image, dim)\n",
    "\n",
    "    # range normalize the image\n",
    "    image = image / highest_pix_value\n",
    "\n",
    "    return image\n"
   ]
  },
  {
   "cell_type": "code",
   "execution_count": 32,
   "metadata": {},
   "outputs": [],
   "source": [
    "labels_map = read_labels(os.path.join(base_data_path, 'train.csv'))"
   ]
  },
  {
   "cell_type": "code",
   "execution_count": 33,
   "metadata": {},
   "outputs": [],
   "source": [
    "unique_labels = set(labels_map.values())"
   ]
  },
  {
   "cell_type": "code",
   "execution_count": 7,
   "metadata": {},
   "outputs": [
    {
     "name": "stdout",
     "output_type": "stream",
     "text": [
      "Generated the required directories\n"
     ]
    }
   ],
   "source": [
    "for label in unique_labels:\n",
    "    dir_path = os.path.join(base_data_path, 'augmented_train_final/', label)\n",
    "    os.mkdir(dir_path)\n",
    "print(\"Generated the required directories\")"
   ]
  },
  {
   "cell_type": "code",
   "execution_count": 9,
   "metadata": {},
   "outputs": [
    {
     "name": "stderr",
     "output_type": "stream",
     "text": [
      "/usr/local/lib/python3.5/dist-packages/ipykernel_launcher.py:9: DeprecationWarning: `imread` is deprecated!\n",
      "`imread` is deprecated in SciPy 1.0.0, and will be removed in 1.2.0.\n",
      "Use ``imageio.imread`` instead.\n",
      "  if __name__ == '__main__':\n",
      "/usr/local/lib/python3.5/dist-packages/ipykernel_launcher.py:22: DeprecationWarning: `imresize` is deprecated!\n",
      "`imresize` is deprecated in SciPy 1.0.0, and will be removed in 1.2.0.\n",
      "Use ``skimage.transform.resize`` instead.\n",
      "/usr/local/lib/python3.5/dist-packages/ipykernel_launcher.py:13: DeprecationWarning: `imsave` is deprecated!\n",
      "`imsave` is deprecated in SciPy 1.0.0, and will be removed in 1.2.0.\n",
      "Use ``imageio.imwrite`` instead.\n",
      "  del sys.path[0]\n"
     ]
    },
    {
     "name": "stdout",
     "output_type": "stream",
     "text": [
      "organized 1000 images ...\n",
      "organized 2000 images ...\n",
      "organized 3000 images ...\n",
      "organized 4000 images ...\n",
      "organized 5000 images ...\n",
      "organized 6000 images ...\n",
      "organized 7000 images ...\n",
      "organized 8000 images ...\n",
      "organized 9000 images ...\n",
      "Data has been reorganized\n"
     ]
    }
   ],
   "source": [
    "image_names = os.listdir(train_data_path )\n",
    "cnt = 1\n",
    "for image_name in image_names:\n",
    "    image_file = os.path.join(train_data_path , image_name)\n",
    "    if os.path.isfile(image_file):\n",
    "        # read the image by resizing it\n",
    "        img = read_image(image_file, dim=(image_height, image_width))\n",
    "        \n",
    "        # save the image under the appropriate directory\n",
    "        label = labels_map[image_name]\n",
    "        cur_lab_cnt = len(os.listdir(os.path.join(base_data_path, 'augmented_train_final/', label)))\n",
    "        save_name = str(cur_lab_cnt + 1) + '.jpg'\n",
    "        imsave(os.path.join(base_data_path,'augmented_train_final/', label, save_name), img)\n",
    "        \n",
    "        if cnt % 1000 == 0:\n",
    "            print(\"organized %d images ...\" % cnt)\n",
    "        cnt += 1\n",
    "print(\"Data has been reorganized\")\n"
   ]
  },
  {
   "cell_type": "code",
   "execution_count": 34,
   "metadata": {},
   "outputs": [],
   "source": [
    "\n",
    "def random_rotate(img_array, num_rotations=4, rotation_angle=25):\n",
    "    # make rotation\n",
    "    rotated_images = [kim.random_rotation(img_array, rotation_angle, \n",
    "                        row_axis=0, col_axis=1, channel_axis=2, fill_mode='nearest')\n",
    "                        for _ in range(num_rotations)]\n",
    "    \n",
    "    return rotated_images\n",
    "\n",
    "\n",
    "# In[12]:\n",
    "\n",
    "\n",
    "def random_shear(img_array, num_shears=4, shear_intensity=7):\n",
    "    # make shear\n",
    "    sheared_images = [kim.random_shear(img_array, intensity=shear_intensity, \n",
    "                        row_axis=0, col_axis=1, channel_axis=2, fill_mode='nearest')\n",
    "                        for _ in range(num_shears)]\n",
    "    \n",
    "    return sheared_images\n",
    "\n",
    "\n",
    "# In[13]:\n",
    "\n",
    "\n",
    "def random_zoom(img_array, num_zooms=4, wt_range=1.4, ht_range=0.7):\n",
    "    # make zooms\n",
    "    zoomed_images = [kim.random_zoom(img_array, zoom_range=(wt_range, ht_range),\n",
    "                        row_axis=0, col_axis=1, channel_axis=2, fill_mode='nearest')\n",
    "                        for _ in range(num_zooms)]\n",
    "    \n",
    "    return zoomed_images\n",
    "\n",
    "\n",
    "# In[14]:\n",
    "\n",
    "\n",
    "def random_shift(img_array, num_shifts=4, wt_range=0.15, ht_range=0.3):\n",
    "    # make shift\n",
    "    shifted_images = [kim.random_shift(img_array, wrg=wt_range, hrg=ht_range, \n",
    "                        row_axis=0, col_axis=1, channel_axis=2, fill_mode='nearest')\n",
    "                        for _ in range(num_shifts)]\n",
    "    \n",
    "    return shifted_images\n",
    "\n",
    "\n",
    "# In[15]:\n",
    "\n",
    "\n",
    "    \n"
   ]
  },
  {
   "cell_type": "code",
   "execution_count": 47,
   "metadata": {},
   "outputs": [],
   "source": [
    "import os\n",
    "import numpy as np\n",
    "import matplotlib.pyplot as plt\n",
    "import keras.preprocessing.image as kim\n",
    "from shutil import copyfile\n",
    "from scipy.misc import imsave\n",
    "import pandas as pd\n",
    "from keras import optimizers\n",
    "from keras.models import Sequential\n",
    "from keras.layers import Convolution2D, MaxPooling2D\n",
    "from keras.layers import Activation, Dropout, Flatten, Dense\n",
    "from keras.optimizers import Adam\n",
    "from keras.callbacks import TensorBoard"
   ]
  },
  {
   "cell_type": "code",
   "execution_count": 22,
   "metadata": {
    "scrolled": true
   },
   "outputs": [
    {
     "name": "stderr",
     "output_type": "stream",
     "text": [
      "/usr/local/lib/python3.5/dist-packages/ipykernel_launcher.py:29: DeprecationWarning: `imsave` is deprecated!\n",
      "`imsave` is deprecated in SciPy 1.0.0, and will be removed in 1.2.0.\n",
      "Use ``imageio.imwrite`` instead.\n"
     ]
    },
    {
     "name": "stdout",
     "output_type": "stream",
     "text": [
      "Class Done!!!!\n",
      "Class Done!!!!\n",
      "Class Done!!!!\n",
      "Class Done!!!!\n",
      "Class Done!!!!\n",
      "Class Done!!!!\n",
      "Class Done!!!!\n",
      "Class Done!!!!\n",
      "Class Done!!!!\n",
      "Class Done!!!!\n",
      "Class Done!!!!\n",
      "Class Done!!!!\n",
      "Class Done!!!!\n",
      "Class Done!!!!\n",
      "Class Done!!!!\n",
      "Class Done!!!!\n",
      "Class Done!!!!\n",
      "Class Done!!!!\n",
      "Class Done!!!!\n",
      "Class Done!!!!\n",
      "Class Done!!!!\n",
      "Class Done!!!!\n",
      "Class Done!!!!\n",
      "Class Done!!!!\n",
      "Class Done!!!!\n",
      "Class Done!!!!\n",
      "Class Done!!!!\n",
      "Class Done!!!!\n",
      "Class Done!!!!\n",
      "Class Done!!!!\n",
      "Data augmentataion process complete ... please check the directory\n"
     ]
    }
   ],
   "source": [
    "import cv2\n",
    "perform_augmentation(augmented_train_data_path)"
   ]
  },
  {
   "cell_type": "code",
   "execution_count": 36,
   "metadata": {},
   "outputs": [],
   "source": [
    "def perform_augmentation(dir_path, max_samples_per_class=35, num_iterations=3):\n",
    "    \n",
    "    augmentation_operations = [random_rotate, random_shift, random_shear, random_zoom]\n",
    "    \n",
    "    # Loop over the classes for augmenting the images there:\n",
    "    class_labels = os.listdir(augmented_train_data_path)\n",
    "    class_lab_count = 1\n",
    "    \n",
    "    for class_label in class_labels:\n",
    "        #print(\"working on augmenting class_label no. %d i.e. %s\" % (class_lab_count, class_label))\n",
    "        class_path = os.path.join(augmented_train_data_path, class_label)\n",
    "        class_path2 = os.path.join(augmented_valid_data_path, class_label)\n",
    "        for op in augmentation_operations:\n",
    "            images = os.listdir(class_path)\n",
    "        \n",
    "            # initialize the images count\n",
    "            img_count = len(images) + 1\n",
    "            \n",
    "            for image in images:\n",
    "                img_name = os.path.join(class_path, image)\n",
    "                image_array = cv2.imread(img_name)\n",
    "                \n",
    "                augmented_imgs = op(image_array, num_iterations)\n",
    "                \n",
    "                # save every augmented image\n",
    "                for aug_img in augmented_imgs:\n",
    "                    if img_count > (max_samples_per_class-5):\n",
    "                        imsave(os.path.join(class_path2, str(img_count)+'.jpg'), aug_img)\n",
    "                    if img_count > max_samples_per_class:\n",
    "                        break\n",
    "                        #imsave(os.path.join(class_path, str(img_count)+'.jpg'), aug_img)\n",
    "                    print (\"image no\"+str(img_count))\n",
    "                    img_count += 1\n",
    "                else:\n",
    "                    continue\n",
    "                break\n",
    "            else:\n",
    "                continue\n",
    "            break\n",
    "        print(\"class done -\" + class_label + \" count \" + str(class_lab_count))\n",
    "        class_lab_count += 1\n",
    "    \n",
    "    print(\"Data augmentataion process complete ... please check the directory\")"
   ]
  },
  {
   "cell_type": "code",
   "execution_count": 61,
   "metadata": {},
   "outputs": [
    {
     "name": "stdout",
     "output_type": "stream",
     "text": [
      "Found 409 images belonging to 30 classes.\n",
      "Found 143 images belonging to 30 classes.\n"
     ]
    }
   ],
   "source": [
    "from keras.preprocessing.image import ImageDataGenerator\n",
    "save_dir = '/tmp/saved_models'\n",
    "model_name = 'keras_cnn_trained_model.h5'\n",
    "batch_size=32\n",
    "im_columns=128\n",
    "im_rows=128\n",
    "im_shape=(im_rows,im_columns,3)\n",
    "\n",
    "epochs=20\n",
    "augmented_train_data_path = 'cnn_basic_noprepro/augmented_train_final1/'\n",
    "augmented_valid_data_path = 'cnn_basic_noprepro/augmented_valid_final/'\n",
    "#check here tomorrow\n",
    "train_datagen = ImageDataGenerator(\n",
    "        rescale=1./255)\n",
    "test_datagen = ImageDataGenerator(rescale=1./255)\n",
    "train_generator = train_datagen.flow_from_directory(\n",
    "        'cnn_basic_noprepro/augmented_train_final1/',target_size=(128, 128),\n",
    "        batch_size=batch_size,\n",
    "        class_mode='categorical')\n",
    "\n",
    "validation_generator = test_datagen.flow_from_directory(\n",
    "        'cnn_basic_noprepro/augmented_valid_final/',target_size=(128, 128),\n",
    "        batch_size=batch_size,\n",
    "        class_mode='categorical')"
   ]
  },
  {
   "cell_type": "code",
   "execution_count": 62,
   "metadata": {},
   "outputs": [
    {
     "data": {
      "text/plain": [
       "(32, 128, 128, 3)"
      ]
     },
     "execution_count": 62,
     "metadata": {},
     "output_type": "execute_result"
    }
   ],
   "source": [
    "train_generator[0][0].shape"
   ]
  },
  {
   "cell_type": "code",
   "execution_count": 63,
   "metadata": {},
   "outputs": [],
   "source": [
    "batch_size = 32\n",
    "samples_per_epoch = 100\n",
    "validation_steps = 5\n",
    "nb_filters1 = 32\n",
    "nb_filters2 = 64\n",
    "conv1_size = 3\n",
    "conv2_size = 2\n",
    "pool_size = 3\n",
    "classes_num = 30\n",
    "lr = 0.001\n",
    "img_height = 128\n",
    "img_width = 128"
   ]
  },
  {
   "cell_type": "raw",
   "metadata": {},
   "source": []
  },
  {
   "cell_type": "code",
   "execution_count": 64,
   "metadata": {},
   "outputs": [
    {
     "data": {
      "text/plain": [
       "(32, 128, 128, 3)"
      ]
     },
     "execution_count": 64,
     "metadata": {},
     "output_type": "execute_result"
    }
   ],
   "source": [
    "validation_generator[0][0].shape"
   ]
  },
  {
   "cell_type": "code",
   "execution_count": 65,
   "metadata": {},
   "outputs": [
    {
     "data": {
      "text/plain": [
       "(128, 128, 3)"
      ]
     },
     "execution_count": 65,
     "metadata": {},
     "output_type": "execute_result"
    }
   ],
   "source": [
    "im_shape"
   ]
  },
  {
   "cell_type": "code",
   "execution_count": 66,
   "metadata": {},
   "outputs": [
    {
     "name": "stderr",
     "output_type": "stream",
     "text": [
      "/usr/local/lib/python3.5/dist-packages/ipykernel_launcher.py:3: UserWarning: Update your `Conv2D` call to the Keras 2 API: `Conv2D(32, (3, 3), input_shape=(128, 128,..., name=\"Conv1\", padding=\"same\")`\n",
      "  This is separate from the ipykernel package so we can avoid doing imports until\n",
      "/usr/local/lib/python3.5/dist-packages/ipykernel_launcher.py:7: UserWarning: Update your `Conv2D` call to the Keras 2 API: `Conv2D(64, (2, 2), padding=\"same\", name=\"Conv2\")`\n",
      "  import sys\n",
      "/usr/local/lib/python3.5/dist-packages/ipykernel_launcher.py:9: UserWarning: Update your `MaxPooling2D` call to the Keras 2 API: `MaxPooling2D(pool_size=(3, 3), data_format=\"channels_first\", name=\"Maxpool2\")`\n",
      "  if __name__ == '__main__':\n"
     ]
    },
    {
     "name": "stdout",
     "output_type": "stream",
     "text": [
      "Found 409 images belonging to 30 classes.\n",
      "Found 143 images belonging to 30 classes.\n"
     ]
    }
   ],
   "source": [
    "\n",
    "model = Sequential()\n",
    "model.add(Convolution2D(nb_filters1, conv1_size, conv1_size, border_mode =\"same\", input_shape=(im_columns, im_rows, 3),name=\"Conv1\"))\n",
    "model.add(Activation(\"relu\"))\n",
    "model.add(MaxPooling2D(pool_size=(pool_size, pool_size),name=\"Maxpool1\"))\n",
    "\n",
    "model.add(Convolution2D(nb_filters2, conv2_size, conv2_size, border_mode =\"same\",name=\"Conv2\"))\n",
    "model.add(Activation(\"relu\"))\n",
    "model.add(MaxPooling2D(pool_size=(pool_size, pool_size), dim_ordering='th',name=\"Maxpool2\"))\n",
    "\n",
    "model.add(Flatten())\n",
    "model.add(Dense(256,name=\"Dense1\"))\n",
    "model.add(Activation(\"relu\"))\n",
    "model.add(Dropout(0.5))\n",
    "model.add(Dense(classes_num, activation='softmax',name=\"Dense2\"))\n",
    "\n",
    "model.compile(loss='categorical_crossentropy',\n",
    "              optimizer=optimizers.RMSprop(lr=lr),\n",
    "              metrics=['accuracy'])\n",
    "\n",
    "train_datagen = ImageDataGenerator(\n",
    "    rescale=1. / 255)\n",
    "\n",
    "test_datagen = ImageDataGenerator(rescale=1. / 255)\n",
    "augmented_train_data_path = 'cnn_basic_noprepro/augmented_train_final1/'\n",
    "augmented_valid_data_path = 'cnn_basic_noprepro/augmented_valid_final/'\n",
    "train_generator = train_datagen.flow_from_directory(\n",
    "    augmented_train_data_path,\n",
    "    target_size=(img_height, img_width),\n",
    "    batch_size=batch_size,\n",
    "    class_mode='categorical')\n",
    "\n",
    "validation_generator = test_datagen.flow_from_directory(\n",
    "    augmented_valid_data_path,\n",
    "    target_size=(img_height, img_width),\n",
    "    batch_size=batch_size,\n",
    "    class_mode='categorical')\n",
    "\n"
   ]
  },
  {
   "cell_type": "code",
   "execution_count": 67,
   "metadata": {},
   "outputs": [
    {
     "name": "stdout",
     "output_type": "stream",
     "text": [
      "_________________________________________________________________\n",
      "Layer (type)                 Output Shape              Param #   \n",
      "=================================================================\n",
      "Conv1 (Conv2D)               (None, 128, 128, 32)      896       \n",
      "_________________________________________________________________\n",
      "activation_31 (Activation)   (None, 128, 128, 32)      0         \n",
      "_________________________________________________________________\n",
      "Maxpool1 (MaxPooling2D)      (None, 42, 42, 32)        0         \n",
      "_________________________________________________________________\n",
      "Conv2 (Conv2D)               (None, 42, 42, 64)        8256      \n",
      "_________________________________________________________________\n",
      "activation_32 (Activation)   (None, 42, 42, 64)        0         \n",
      "_________________________________________________________________\n",
      "Maxpool2 (MaxPooling2D)      (None, 42, 14, 21)        0         \n",
      "_________________________________________________________________\n",
      "flatten_11 (Flatten)         (None, 12348)             0         \n",
      "_________________________________________________________________\n",
      "Dense1 (Dense)               (None, 256)               3161344   \n",
      "_________________________________________________________________\n",
      "activation_33 (Activation)   (None, 256)               0         \n",
      "_________________________________________________________________\n",
      "dropout_11 (Dropout)         (None, 256)               0         \n",
      "_________________________________________________________________\n",
      "Dense2 (Dense)               (None, 30)                7710      \n",
      "=================================================================\n",
      "Total params: 3,178,206\n",
      "Trainable params: 3,178,206\n",
      "Non-trainable params: 0\n",
      "_________________________________________________________________\n"
     ]
    }
   ],
   "source": [
    "model.summary()"
   ]
  },
  {
   "cell_type": "code",
   "execution_count": 68,
   "metadata": {},
   "outputs": [
    {
     "name": "stderr",
     "output_type": "stream",
     "text": [
      "/usr/local/lib/python3.5/dist-packages/ipykernel_launcher.py:14: UserWarning: Update your `fit_generator` call to the Keras 2 API: `fit_generator(<keras.pre..., epochs=20, validation_steps=5, steps_per_epoch=3, validation_data=<keras.pre..., callbacks=[<keras.ca...)`\n",
      "  \n"
     ]
    },
    {
     "name": "stdout",
     "output_type": "stream",
     "text": [
      "Epoch 1/20\n",
      "3/3 [==============================] - 2s 723ms/step - loss: 6.0860 - acc: 0.0341 - val_loss: 3.6784 - val_acc: 0.0350\n",
      "Epoch 2/20\n",
      "3/3 [==============================] - 3s 881ms/step - loss: 3.7399 - acc: 0.0312 - val_loss: 3.4141 - val_acc: 0.0420\n",
      "Epoch 3/20\n",
      "3/3 [==============================] - 3s 902ms/step - loss: 3.4615 - acc: 0.0312 - val_loss: 3.3982 - val_acc: 0.0629\n",
      "Epoch 4/20\n",
      "3/3 [==============================] - 3s 899ms/step - loss: 3.4528 - acc: 0.0417 - val_loss: 3.3939 - val_acc: 0.0559\n",
      "Epoch 5/20\n",
      "3/3 [==============================] - 3s 914ms/step - loss: 3.3781 - acc: 0.1022 - val_loss: 3.3894 - val_acc: 0.0350\n",
      "Epoch 6/20\n",
      "3/3 [==============================] - 3s 906ms/step - loss: 3.3634 - acc: 0.0521 - val_loss: 3.3850 - val_acc: 0.0699\n",
      "Epoch 7/20\n",
      "3/3 [==============================] - 3s 904ms/step - loss: 3.3663 - acc: 0.0938 - val_loss: 3.3774 - val_acc: 0.0559\n",
      "Epoch 8/20\n",
      "3/3 [==============================] - 3s 904ms/step - loss: 3.3230 - acc: 0.0833 - val_loss: 3.3642 - val_acc: 0.0559\n",
      "Epoch 9/20\n",
      "3/3 [==============================] - 3s 947ms/step - loss: 3.3444 - acc: 0.0729 - val_loss: 3.3567 - val_acc: 0.0629\n",
      "Epoch 10/20\n",
      "3/3 [==============================] - 3s 869ms/step - loss: 3.2844 - acc: 0.1684 - val_loss: 3.3864 - val_acc: 0.0350\n",
      "Epoch 11/20\n",
      "3/3 [==============================] - 3s 903ms/step - loss: 3.2924 - acc: 0.0833 - val_loss: 3.3256 - val_acc: 0.0490\n",
      "Epoch 12/20\n",
      "3/3 [==============================] - 3s 898ms/step - loss: 3.2532 - acc: 0.0833 - val_loss: 3.3014 - val_acc: 0.0769\n",
      "Epoch 13/20\n",
      "3/3 [==============================] - 3s 941ms/step - loss: 3.2220 - acc: 0.1250 - val_loss: 3.3034 - val_acc: 0.0559\n",
      "Epoch 14/20\n",
      "3/3 [==============================] - 3s 879ms/step - loss: 3.2163 - acc: 0.0469 - val_loss: 3.2875 - val_acc: 0.1049\n",
      "Epoch 15/20\n",
      "3/3 [==============================] - 3s 908ms/step - loss: 3.0223 - acc: 0.2083 - val_loss: 3.2177 - val_acc: 0.0839\n",
      "Epoch 16/20\n",
      "3/3 [==============================] - 3s 909ms/step - loss: 3.0463 - acc: 0.1354 - val_loss: 3.2110 - val_acc: 0.0909\n",
      "Epoch 17/20\n",
      "3/3 [==============================] - 3s 911ms/step - loss: 3.0700 - acc: 0.1562 - val_loss: 3.1946 - val_acc: 0.0979\n",
      "Epoch 18/20\n",
      "3/3 [==============================] - 3s 951ms/step - loss: 2.9328 - acc: 0.1458 - val_loss: 3.1959 - val_acc: 0.0979\n",
      "Epoch 19/20\n",
      "3/3 [==============================] - 3s 900ms/step - loss: 2.9068 - acc: 0.2188 - val_loss: 3.1641 - val_acc: 0.1189\n",
      "Epoch 20/20\n",
      "3/3 [==============================] - 3s 904ms/step - loss: 2.7281 - acc: 0.2917 - val_loss: 3.1544 - val_acc: 0.1049\n"
     ]
    }
   ],
   "source": [
    "\n",
    "tensorboard=TensorBoard(\n",
    "    log_dir=r'logs\\{}'.format('cnn_2layer')\n",
    "    ,write_graph=True,\n",
    "    write_grads=True,\n",
    "    write_images=True\n",
    ")\n",
    "history=model.fit_generator(\n",
    "    train_generator,\n",
    "    samples_per_epoch=samples_per_epoch,\n",
    "    epochs=20,\n",
    "    validation_data=validation_generator,\n",
    "   callbacks=[tensorboard],\n",
    "    validation_steps=validation_steps)\n",
    "\n",
    "target_dir = './models/'\n",
    "if not os.path.exists(target_dir):\n",
    "  os.mkdir(target_dir)\n",
    "model.save('./models/model.h5')\n",
    "model.save_weights('./models/weights.h5')\n",
    "\n",
    "\n"
   ]
  },
  {
   "cell_type": "code",
   "execution_count": 45,
   "metadata": {},
   "outputs": [
    {
     "name": "stdout",
     "output_type": "stream",
     "text": [
      "_________________________________________________________________\n",
      "Layer (type)                 Output Shape              Param #   \n",
      "=================================================================\n",
      "Conv1 (Conv2D)               (None, 128, 128, 32)      896       \n",
      "_________________________________________________________________\n",
      "activation_19 (Activation)   (None, 128, 128, 32)      0         \n",
      "_________________________________________________________________\n",
      "Maxpool1 (MaxPooling2D)      (None, 42, 42, 32)        0         \n",
      "_________________________________________________________________\n",
      "Conv2 (Conv2D)               (None, 42, 42, 64)        8256      \n",
      "_________________________________________________________________\n",
      "activation_20 (Activation)   (None, 42, 42, 64)        0         \n",
      "_________________________________________________________________\n",
      "Maxpool2 (MaxPooling2D)      (None, 42, 14, 21)        0         \n",
      "_________________________________________________________________\n",
      "flatten_7 (Flatten)          (None, 12348)             0         \n",
      "_________________________________________________________________\n",
      "Dense1 (Dense)               (None, 256)               3161344   \n",
      "_________________________________________________________________\n",
      "activation_21 (Activation)   (None, 256)               0         \n",
      "_________________________________________________________________\n",
      "dropout_7 (Dropout)          (None, 256)               0         \n",
      "_________________________________________________________________\n",
      "Dense2 (Dense)               (None, 30)                7710      \n",
      "=================================================================\n",
      "Total params: 3,178,206\n",
      "Trainable params: 3,178,206\n",
      "Non-trainable params: 0\n",
      "_________________________________________________________________\n",
      "None\n"
     ]
    }
   ],
   "source": [
    "print(model.summary())"
   ]
  },
  {
   "cell_type": "code",
   "execution_count": 69,
   "metadata": {},
   "outputs": [
    {
     "data": {
      "image/png": "[encoded data removed]",
      "text/plain": [
       "<Figure size 432x288 with 1 Axes>"
      ]
     },
     "metadata": {},
     "output_type": "display_data"
    },
    {
     "data": {
      "image/png": "[encoded data removed]",
      "text/plain": [
       "<Figure size 432x288 with 1 Axes>"
      ]
     },
     "metadata": {},
     "output_type": "display_data"
    }
   ],
   "source": [
    "plt.plot(history.history['acc'])\n",
    "plt.plot(history.history['val_acc'])\n",
    "plt.title('model accuracy')\n",
    "plt.ylabel('accuracy')\n",
    "plt.xlabel('epoch')\n",
    "plt.legend(['train', 'test'], loc='upper left')\n",
    "plt.show()\n",
    "plt.plot(history.history['loss'])\n",
    "plt.plot(history.history['val_loss'])\n",
    "plt.title('model loss')\n",
    "plt.ylabel('loss')\n",
    "plt.xlabel('epoch')\n",
    "plt.legend(['train', 'test'], loc='upper right')\n",
    "plt.show()"
   ]
  },
  {
   "cell_type": "code",
   "execution_count": null,
   "metadata": {},
   "outputs": [],
   "source": [
    "from keras import backend as K\n",
    "input_shape=(128,128,3)\n",
    "inp = cnn_model.input                                           # input placeholder"
   ]
  },
  {
   "cell_type": "code",
   "execution_count": null,
   "metadata": {},
   "outputs": [],
   "source": []
  },
  {
   "cell_type": "code",
   "execution_count": 74,
   "metadata": {},
   "outputs": [],
   "source": [
    "outputs = [layer.output for layer in cnn_model.layers]          # all layer outputs\n",
    "functors = [K.function([inp], [out]) for out in outputs]    # evaluation functions"
   ]
  },
  {
   "cell_type": "code",
   "execution_count": 75,
   "metadata": {},
   "outputs": [],
   "source": [
    "# Testing\n",
    "test = np.random.random(input_shape)[np.newaxis,...]"
   ]
  },
  {
   "cell_type": "code",
   "execution_count": 76,
   "metadata": {},
   "outputs": [],
   "source": [
    "layer_outs = [func([test]) for func in functors]"
   ]
  },
  {
   "cell_type": "code",
   "execution_count": 77,
   "metadata": {},
   "outputs": [
    {
     "name": "stdout",
     "output_type": "stream",
     "text": [
      "[[array([[[[0.53552043, 0.        , 0.        , ..., 0.15240197,\n",
      "          0.22476235, 0.17319588],\n",
      "         [0.17152226, 0.        , 0.        , ..., 0.        ,\n",
      "          0.02224703, 0.00862204],\n",
      "         [0.36459526, 0.        , 0.        , ..., 0.01118908,\n",
      "          0.14646627, 0.10669237],\n",
      "         ...,\n",
      "         [0.2948629 , 0.        , 0.        , ..., 0.        ,\n",
      "          0.02288086, 0.00199044],\n",
      "         [0.53964543, 0.        , 0.        , ..., 0.05105532,\n",
      "          0.04488106, 0.25281072],\n",
      "         [0.29333508, 0.        , 0.        , ..., 0.08369603,\n",
      "          0.08922285, 0.        ]],\n",
      "\n",
      "        [[0.37924638, 0.        , 0.02139648, ..., 0.        ,\n",
      "          0.        , 0.        ],\n",
      "         [0.215693  , 0.        , 0.0672493 , ..., 0.        ,\n",
      "          0.        , 0.        ],\n",
      "         [0.37401378, 0.        , 0.0706953 , ..., 0.        ,\n",
      "          0.09152067, 0.        ],\n",
      "         ...,\n",
      "         [0.25976658, 0.        , 0.00627194, ..., 0.        ,\n",
      "          0.        , 0.        ],\n",
      "         [0.29917657, 0.        , 0.        , ..., 0.13083759,\n",
      "          0.06598045, 0.0642335 ],\n",
      "         [0.12095189, 0.        , 0.        , ..., 0.        ,\n",
      "          0.1053965 , 0.        ]],\n",
      "\n",
      "        [[0.216376  , 0.        , 0.        , ..., 0.01928653,\n",
      "          0.22234759, 0.        ],\n",
      "         [0.28794977, 0.        , 0.14029303, ..., 0.        ,\n",
      "          0.09922278, 0.08137935],\n",
      "         [0.40997294, 0.        , 0.        , ..., 0.        ,\n",
      "          0.05547564, 0.06767011],\n",
      "         ...,\n",
      "         [0.29279408, 0.        , 0.        , ..., 0.00144119,\n",
      "          0.        , 0.        ],\n",
      "         [0.32124066, 0.        , 0.        , ..., 0.04543592,\n",
      "          0.        , 0.14406583],\n",
      "         [0.11292031, 0.        , 0.        , ..., 0.12936659,\n",
      "          0.06498073, 0.        ]],\n",
      "\n",
      "        ...,\n",
      "\n",
      "        [[0.3846949 , 0.        , 0.        , ..., 0.06276457,\n",
      "          0.        , 0.        ],\n",
      "         [0.3792555 , 0.        , 0.        , ..., 0.        ,\n",
      "          0.01467842, 0.0131338 ],\n",
      "         [0.4961318 , 0.        , 0.        , ..., 0.        ,\n",
      "          0.        , 0.        ],\n",
      "         ...,\n",
      "         [0.37143815, 0.        , 0.        , ..., 0.02750264,\n",
      "          0.        , 0.        ],\n",
      "         [0.39566016, 0.        , 0.        , ..., 0.        ,\n",
      "          0.2419772 , 0.1221134 ],\n",
      "         [0.3340423 , 0.        , 0.08344287, ..., 0.        ,\n",
      "          0.02592831, 0.        ]],\n",
      "\n",
      "        [[0.40818217, 0.        , 0.        , ..., 0.        ,\n",
      "          0.0547895 , 0.        ],\n",
      "         [0.53530145, 0.        , 0.21416348, ..., 0.        ,\n",
      "          0.08503278, 0.        ],\n",
      "         [0.47538266, 0.        , 0.        , ..., 0.        ,\n",
      "          0.        , 0.        ],\n",
      "         ...,\n",
      "         [0.36174405, 0.        , 0.        , ..., 0.00604931,\n",
      "          0.        , 0.        ],\n",
      "         [0.32463422, 0.        , 0.        , ..., 0.        ,\n",
      "          0.06163016, 0.        ],\n",
      "         [0.38800913, 0.        , 0.        , ..., 0.        ,\n",
      "          0.07897507, 0.        ]],\n",
      "\n",
      "        [[0.59538233, 0.        , 0.        , ..., 0.0761839 ,\n",
      "          0.        , 0.        ],\n",
      "         [0.54164606, 0.        , 0.        , ..., 0.02220427,\n",
      "          0.04554011, 0.07120836],\n",
      "         [0.26807663, 0.        , 0.        , ..., 0.0685182 ,\n",
      "          0.11004398, 0.05030812],\n",
      "         ...,\n",
      "         [0.41731036, 0.        , 0.        , ..., 0.1262229 ,\n",
      "          0.08561382, 0.01265677],\n",
      "         [0.36533892, 0.        , 0.        , ..., 0.10341682,\n",
      "          0.1676372 , 0.07514492],\n",
      "         [0.5354807 , 0.        , 0.        , ..., 0.        ,\n",
      "          0.08994567, 0.09942763]]]], dtype=float32)], [array([[[[0.53552043, 0.        , 0.14029303, ..., 0.15240197,\n",
      "          0.2908773 , 0.17319588],\n",
      "         [0.70689076, 0.01184118, 0.19196033, ..., 0.19830386,\n",
      "          0.19057542, 0.16441613],\n",
      "         [0.66832036, 0.        , 0.13331164, ..., 0.16126996,\n",
      "          0.19073236, 0.2465997 ],\n",
      "         ...,\n",
      "         [0.5540393 , 0.        , 0.09875868, ..., 0.22152923,\n",
      "          0.21411343, 0.1162592 ],\n",
      "         [0.61031103, 0.        , 0.16313012, ..., 0.20583929,\n",
      "          0.25744066, 0.2810054 ],\n",
      "         [0.6451841 , 0.        , 0.18373804, ..., 0.3287268 ,\n",
      "          0.2189679 , 0.24220546]],\n",
      "\n",
      "        [[0.5728063 , 0.        , 0.08691029, ..., 0.11256959,\n",
      "          0.20123883, 0.08957805],\n",
      "         [0.622769  , 0.        , 0.0934032 , ..., 0.2251938 ,\n",
      "          0.22749965, 0.1275959 ],\n",
      "         [0.5737053 , 0.01052637, 0.08010458, ..., 0.16026878,\n",
      "          0.13840382, 0.19967866],\n",
      "         ...,\n",
      "         [0.5881081 , 0.        , 0.20550895, ..., 0.09013793,\n",
      "          0.20285162, 0.22417827],\n",
      "         [0.62172633, 0.        , 0.08982988, ..., 0.11205335,\n",
      "          0.24108166, 0.04038522],\n",
      "         [0.56199634, 0.        , 0.16097048, ..., 0.19007997,\n",
      "          0.26589972, 0.29623634]],\n",
      "\n",
      "        [[0.5815173 , 0.        , 0.15670876, ..., 0.16652879,\n",
      "          0.22354649, 0.11970244],\n",
      "         [0.61053914, 0.        , 0.00895862, ..., 0.2350064 ,\n",
      "          0.2521765 , 0.2723905 ],\n",
      "         [0.5590788 , 0.        , 0.22468123, ..., 0.0897366 ,\n",
      "          0.15591264, 0.17784362],\n",
      "         ...,\n",
      "         [0.68021405, 0.        , 0.13757166, ..., 0.1665081 ,\n",
      "          0.22875081, 0.16157395],\n",
      "         [0.53757346, 0.        , 0.10679941, ..., 0.10200386,\n",
      "          0.24443264, 0.16838577],\n",
      "         [0.67437243, 0.        , 0.1992195 , ..., 0.30843127,\n",
      "          0.20291163, 0.24930684]],\n",
      "\n",
      "        ...,\n",
      "\n",
      "        [[0.6701493 , 0.        , 0.13912416, ..., 0.18864459,\n",
      "          0.16201134, 0.12836155],\n",
      "         [0.65944266, 0.00747532, 0.        , ..., 0.10749073,\n",
      "          0.14197846, 0.09543635],\n",
      "         [0.51401865, 0.        , 0.11389001, ..., 0.16742215,\n",
      "          0.17156509, 0.13575909],\n",
      "         ...,\n",
      "         [0.6958514 , 0.02611981, 0.15032153, ..., 0.08813696,\n",
      "          0.174202  , 0.09602181],\n",
      "         [0.71881145, 0.        , 0.08592698, ..., 0.24439202,\n",
      "          0.18360895, 0.03179009],\n",
      "         [0.6448794 , 0.        , 0.16055897, ..., 0.08788157,\n",
      "          0.24321595, 0.15111846]],\n",
      "\n",
      "        [[0.5905926 , 0.        , 0.17039767, ..., 0.15507907,\n",
      "          0.2968781 , 0.17405736],\n",
      "         [0.55982745, 0.        , 0.12386808, ..., 0.21051803,\n",
      "          0.21067393, 0.2390687 ],\n",
      "         [0.6361637 , 0.        , 0.23667634, ..., 0.12539369,\n",
      "          0.27883953, 0.1503511 ],\n",
      "         ...,\n",
      "         [0.54805315, 0.        , 0.26511866, ..., 0.26490927,\n",
      "          0.2808899 , 0.13529001],\n",
      "         [0.67789733, 0.        , 0.01108657, ..., 0.23514417,\n",
      "          0.16945703, 0.2050879 ],\n",
      "         [0.657605  , 0.        , 0.06866056, ..., 0.19350617,\n",
      "          0.2753371 , 0.20580228]],\n",
      "\n",
      "        [[0.64267343, 0.        , 0.1264458 , ..., 0.11728454,\n",
      "          0.20586945, 0.32391033],\n",
      "         [0.51727015, 0.        , 0.1226235 , ..., 0.19334763,\n",
      "          0.34637627, 0.23319434],\n",
      "         [0.7046794 , 0.        , 0.11068648, ..., 0.18154371,\n",
      "          0.34022447, 0.1883382 ],\n",
      "         ...,\n",
      "         [0.68467283, 0.        , 0.177732  , ..., 0.10605492,\n",
      "          0.2218464 , 0.11855823],\n",
      "         [0.63024986, 0.        , 0.09795028, ..., 0.11239332,\n",
      "          0.21487828, 0.11262199],\n",
      "         [0.4685551 , 0.        , 0.07169275, ..., 0.2805587 ,\n",
      "          0.16913983, 0.16519849]]]], dtype=float32)], [array([[[[0.53552043, 0.        , 0.14029303, ..., 0.15240197,\n",
      "          0.2908773 , 0.17319588],\n",
      "         [0.70689076, 0.01184118, 0.19196033, ..., 0.19830386,\n",
      "          0.19057542, 0.16441613],\n",
      "         [0.66832036, 0.        , 0.13331164, ..., 0.16126996,\n",
      "          0.19073236, 0.2465997 ],\n",
      "         ...,\n",
      "         [0.5540393 , 0.        , 0.09875868, ..., 0.22152923,\n",
      "          0.21411343, 0.1162592 ],\n",
      "         [0.61031103, 0.        , 0.16313012, ..., 0.20583929,\n",
      "          0.25744066, 0.2810054 ],\n",
      "         [0.6451841 , 0.        , 0.18373804, ..., 0.3287268 ,\n",
      "          0.2189679 , 0.24220546]],\n",
      "\n",
      "        [[0.5728063 , 0.        , 0.08691029, ..., 0.11256959,\n",
      "          0.20123883, 0.08957805],\n",
      "         [0.622769  , 0.        , 0.0934032 , ..., 0.2251938 ,\n",
      "          0.22749965, 0.1275959 ],\n",
      "         [0.5737053 , 0.01052637, 0.08010458, ..., 0.16026878,\n",
      "          0.13840382, 0.19967866],\n",
      "         ...,\n",
      "         [0.5881081 , 0.        , 0.20550895, ..., 0.09013793,\n",
      "          0.20285162, 0.22417827],\n",
      "         [0.62172633, 0.        , 0.08982988, ..., 0.11205335,\n",
      "          0.24108166, 0.04038522],\n",
      "         [0.56199634, 0.        , 0.16097048, ..., 0.19007997,\n",
      "          0.26589972, 0.29623634]],\n",
      "\n",
      "        [[0.5815173 , 0.        , 0.15670876, ..., 0.16652879,\n",
      "          0.22354649, 0.11970244],\n",
      "         [0.61053914, 0.        , 0.00895862, ..., 0.2350064 ,\n",
      "          0.2521765 , 0.2723905 ],\n",
      "         [0.5590788 , 0.        , 0.22468123, ..., 0.0897366 ,\n",
      "          0.15591264, 0.17784362],\n",
      "         ...,\n",
      "         [0.68021405, 0.        , 0.13757166, ..., 0.1665081 ,\n",
      "          0.22875081, 0.16157395],\n",
      "         [0.53757346, 0.        , 0.10679941, ..., 0.10200386,\n",
      "          0.24443264, 0.16838577],\n",
      "         [0.67437243, 0.        , 0.1992195 , ..., 0.30843127,\n",
      "          0.20291163, 0.24930684]],\n",
      "\n",
      "        ...,\n",
      "\n",
      "        [[0.6701493 , 0.        , 0.13912416, ..., 0.18864459,\n",
      "          0.16201134, 0.12836155],\n",
      "         [0.65944266, 0.00747532, 0.        , ..., 0.10749073,\n",
      "          0.14197846, 0.09543635],\n",
      "         [0.51401865, 0.        , 0.11389001, ..., 0.16742215,\n",
      "          0.17156509, 0.13575909],\n",
      "         ...,\n",
      "         [0.6958514 , 0.02611981, 0.15032153, ..., 0.08813696,\n",
      "          0.174202  , 0.09602181],\n",
      "         [0.71881145, 0.        , 0.08592698, ..., 0.24439202,\n",
      "          0.18360895, 0.03179009],\n",
      "         [0.6448794 , 0.        , 0.16055897, ..., 0.08788157,\n",
      "          0.24321595, 0.15111846]],\n",
      "\n",
      "        [[0.5905926 , 0.        , 0.17039767, ..., 0.15507907,\n",
      "          0.2968781 , 0.17405736],\n",
      "         [0.55982745, 0.        , 0.12386808, ..., 0.21051803,\n",
      "          0.21067393, 0.2390687 ],\n",
      "         [0.6361637 , 0.        , 0.23667634, ..., 0.12539369,\n",
      "          0.27883953, 0.1503511 ],\n",
      "         ...,\n",
      "         [0.54805315, 0.        , 0.26511866, ..., 0.26490927,\n",
      "          0.2808899 , 0.13529001],\n",
      "         [0.67789733, 0.        , 0.01108657, ..., 0.23514417,\n",
      "          0.16945703, 0.2050879 ],\n",
      "         [0.657605  , 0.        , 0.06866056, ..., 0.19350617,\n",
      "          0.2753371 , 0.20580228]],\n",
      "\n",
      "        [[0.64267343, 0.        , 0.1264458 , ..., 0.11728454,\n",
      "          0.20586945, 0.32391033],\n",
      "         [0.51727015, 0.        , 0.1226235 , ..., 0.19334763,\n",
      "          0.34637627, 0.23319434],\n",
      "         [0.7046794 , 0.        , 0.11068648, ..., 0.18154371,\n",
      "          0.34022447, 0.1883382 ],\n",
      "         ...,\n",
      "         [0.68467283, 0.        , 0.177732  , ..., 0.10605492,\n",
      "          0.2218464 , 0.11855823],\n",
      "         [0.63024986, 0.        , 0.09795028, ..., 0.11239332,\n",
      "          0.21487828, 0.11262199],\n",
      "         [0.4685551 , 0.        , 0.07169275, ..., 0.2805587 ,\n",
      "          0.16913983, 0.16519849]]]], dtype=float32)], [array([[[[0.11169105, 0.        , 0.8998594 , ..., 0.        ,\n",
      "          0.03490073, 0.        ],\n",
      "         [0.        , 0.        , 0.8200369 , ..., 0.        ,\n",
      "          0.04512444, 0.        ],\n",
      "         [0.        , 0.        , 0.9394107 , ..., 0.        ,\n",
      "          0.        , 0.        ],\n",
      "         ...,\n",
      "         [0.        , 0.        , 0.91864854, ..., 0.        ,\n",
      "          0.        , 0.        ],\n",
      "         [0.        , 0.        , 0.8068277 , ..., 0.        ,\n",
      "          0.        , 0.        ],\n",
      "         [0.        , 0.        , 0.8014646 , ..., 0.        ,\n",
      "          0.        , 0.        ]],\n",
      "\n",
      "        [[0.0497863 , 0.        , 0.7406435 , ..., 0.        ,\n",
      "          0.        , 0.        ],\n",
      "         [0.        , 0.        , 0.87664956, ..., 0.        ,\n",
      "          0.        , 0.        ],\n",
      "         [0.00303674, 0.        , 0.8226492 , ..., 0.        ,\n",
      "          0.        , 0.        ],\n",
      "         ...,\n",
      "         [0.        , 0.        , 0.729133  , ..., 0.        ,\n",
      "          0.        , 0.        ],\n",
      "         [0.07599697, 0.        , 0.9673021 , ..., 0.        ,\n",
      "          0.        , 0.        ],\n",
      "         [0.        , 0.        , 0.8466201 , ..., 0.        ,\n",
      "          0.        , 0.        ]],\n",
      "\n",
      "        [[0.        , 0.        , 0.856858  , ..., 0.        ,\n",
      "          0.        , 0.        ],\n",
      "         [0.        , 0.        , 0.84894025, ..., 0.        ,\n",
      "          0.        , 0.        ],\n",
      "         [0.01492945, 0.        , 0.97656983, ..., 0.        ,\n",
      "          0.        , 0.        ],\n",
      "         ...,\n",
      "         [0.01841721, 0.        , 0.93558675, ..., 0.        ,\n",
      "          0.        , 0.        ],\n",
      "         [0.        , 0.        , 0.87587625, ..., 0.        ,\n",
      "          0.02453995, 0.        ],\n",
      "         [0.        , 0.        , 0.8387487 , ..., 0.        ,\n",
      "          0.        , 0.        ]],\n",
      "\n",
      "        ...,\n",
      "\n",
      "        [[0.05062183, 0.        , 0.8580054 , ..., 0.        ,\n",
      "          0.        , 0.        ],\n",
      "         [0.        , 0.        , 0.858701  , ..., 0.        ,\n",
      "          0.        , 0.        ],\n",
      "         [0.00980452, 0.        , 0.9723822 , ..., 0.        ,\n",
      "          0.        , 0.        ],\n",
      "         ...,\n",
      "         [0.03866552, 0.        , 0.8667544 , ..., 0.        ,\n",
      "          0.        , 0.        ],\n",
      "         [0.04862293, 0.        , 0.84935826, ..., 0.        ,\n",
      "          0.01849687, 0.        ],\n",
      "         [0.17857338, 0.        , 0.8211074 , ..., 0.        ,\n",
      "          0.        , 0.        ]],\n",
      "\n",
      "        [[0.05235371, 0.        , 0.8964795 , ..., 0.        ,\n",
      "          0.        , 0.        ],\n",
      "         [0.00738951, 0.        , 0.8561963 , ..., 0.        ,\n",
      "          0.        , 0.        ],\n",
      "         [0.03705011, 0.        , 0.84568   , ..., 0.        ,\n",
      "          0.04997445, 0.        ],\n",
      "         ...,\n",
      "         [0.01427955, 0.        , 0.9006201 , ..., 0.        ,\n",
      "          0.        , 0.        ],\n",
      "         [0.0186091 , 0.        , 0.99568594, ..., 0.        ,\n",
      "          0.        , 0.        ],\n",
      "         [0.        , 0.        , 0.9569004 , ..., 0.        ,\n",
      "          0.        , 0.        ]],\n",
      "\n",
      "        [[0.01326678, 0.        , 0.9467166 , ..., 0.        ,\n",
      "          0.        , 0.        ],\n",
      "         [0.        , 0.        , 1.0076443 , ..., 0.        ,\n",
      "          0.        , 0.        ],\n",
      "         [0.04043852, 0.        , 0.8609158 , ..., 0.        ,\n",
      "          0.00560586, 0.        ],\n",
      "         ...,\n",
      "         [0.        , 0.        , 0.86549634, ..., 0.        ,\n",
      "          0.        , 0.        ],\n",
      "         [0.        , 0.        , 0.9243368 , ..., 0.        ,\n",
      "          0.        , 0.        ],\n",
      "         [0.09048908, 0.        , 1.0077032 , ..., 0.        ,\n",
      "          0.        , 0.        ]]]], dtype=float32)], [array([[0.11169105, 0.        , 0.8998594 , ..., 0.        , 0.        ,\n",
      "        0.        ]], dtype=float32)], [array([[0.6846357 , 0.02808538, 0.        , 0.4073251 , 0.        ,\n",
      "        0.29770046, 0.17909075, 0.48957518, 0.4509448 , 0.        ,\n",
      "        0.1381144 , 0.        , 0.        , 0.        , 0.21159473,\n",
      "        0.        , 0.        , 0.        , 0.        , 0.        ,\n",
      "        0.7406142 , 1.1177236 , 0.5456634 , 0.        , 0.        ,\n",
      "        0.        , 0.14059015, 0.30983233, 0.4041865 , 0.08116057,\n",
      "        0.        , 0.13075121, 0.01480879, 0.30773038, 0.06086299,\n",
      "        0.        , 0.        , 0.        , 0.        , 0.3253259 ,\n",
      "        0.        , 0.        , 0.65307325, 0.        , 0.        ,\n",
      "        0.        , 0.        , 0.        , 0.        , 0.        ,\n",
      "        0.20263103, 0.        , 0.26100996, 1.008471  , 0.        ,\n",
      "        0.5778319 , 0.36072984, 0.08552103, 0.        , 0.5888973 ,\n",
      "        0.        , 0.7983899 , 0.38333243, 0.        , 0.08011416,\n",
      "        0.        , 0.00379442, 0.        , 0.        , 0.320256  ,\n",
      "        0.        , 0.        , 0.        , 0.45519647, 0.7962925 ,\n",
      "        0.        , 0.        , 0.29519105, 0.        , 0.        ,\n",
      "        0.        , 0.41920653, 0.13493784, 0.16602814, 0.2739807 ,\n",
      "        0.42251083, 0.238709  , 0.        , 0.08681975, 0.1774397 ,\n",
      "        0.        , 0.13384022, 0.        , 0.        , 0.        ,\n",
      "        0.        , 0.        , 0.        , 0.        , 0.266048  ]],\n",
      "      dtype=float32)], [array([[0.06436203, 0.05739886, 0.06850825, 0.08376318, 0.04829261,\n",
      "        0.06854204, 0.08600468, 0.06577037, 0.03853993, 0.13174747,\n",
      "        0.04123673, 0.0511191 , 0.09661277, 0.04835208, 0.04974993]],\n",
      "      dtype=float32)]]\n"
     ]
    }
   ],
   "source": [
    "print(layer_outs)"
   ]
  },
  {
   "cell_type": "code",
   "execution_count": 116,
   "metadata": {},
   "outputs": [
    {
     "data": {
      "text/plain": [
       "(32, 256, 256, 3)"
      ]
     },
     "execution_count": 116,
     "metadata": {},
     "output_type": "execute_result"
    }
   ],
   "source": [
    "train_generator[0][0].shape"
   ]
  },
  {
   "cell_type": "code",
   "execution_count": 71,
   "metadata": {},
   "outputs": [],
   "source": [
    "import cv2\n",
    "image = cv2.imread('augmented_valid2/w_1287fbc/35.jpg')"
   ]
  },
  {
   "cell_type": "code",
   "execution_count": 72,
   "metadata": {},
   "outputs": [
    {
     "data": {
      "text/plain": [
       "(128, 128, 3)"
      ]
     },
     "execution_count": 72,
     "metadata": {},
     "output_type": "execute_result"
    }
   ],
   "source": [
    "image.shape"
   ]
  },
  {
   "cell_type": "code",
   "execution_count": 21,
   "metadata": {},
   "outputs": [],
   "source": [
    "def perform_augmentation(dir_path, max_samples_per_class=35, num_iterations=3):\n",
    "    augmentation_operations = [random_rotate,random_shift, random_shear, random_zoom]\n",
    "    \n",
    "    \n",
    "    # Loop over the classes for augmenting the images there:\n",
    "    class_labels = os.listdir(augmented_train_data_path)\n",
    "    class_lab_count = 1\n",
    "    \n",
    "    for class_label in class_labels:\n",
    "        #print(\"working on augmenting class_label no. %d i.e. %s\" % (class_lab_count, class_label))\n",
    "        class_path = os.path.join(augmented_train_data_path, class_label)\n",
    "\n",
    "        for op in augmentation_operations:\n",
    "            images = os.listdir(class_path)\n",
    "        \n",
    "            # initialize the images count\n",
    "            img_count = len(images) + 1\n",
    "            \n",
    "            for image in images:\n",
    "                img_name = os.path.join(class_path, image)\n",
    "                image_array = cv2.imread(img_name)\n",
    "                \n",
    "                augmented_imgs = op(image_array, num_iterations)\n",
    "                \n",
    "                # save every augmented image\n",
    "                for aug_img in augmented_imgs:\n",
    "                    if img_count > max_samples_per_class:\n",
    "                        break\n",
    "                    imsave(os.path.join(class_path, str(img_count)+'.jpg'), aug_img)\n",
    "                    img_count += 1\n",
    "                else:\n",
    "                    continue\n",
    "                break\n",
    "            else:\n",
    "                continue\n",
    "            break\n",
    "        print(\"Class Done!!!!\")\n",
    "        class_lab_count += 1\n",
    "    \n",
    "    print(\"Data augmentataion process complete ... please check the directory\")"
   ]
  },
  {
   "cell_type": "code",
   "execution_count": null,
   "metadata": {},
   "outputs": [],
   "source": []
  }
 ],
 "metadata": {
  "kernelspec": {
   "display_name": "Python 3",
   "language": "python",
   "name": "python3"
  },
  "language_info": {
   "codemirror_mode": {
    "name": "ipython",
    "version": 3
   },
   "file_extension": ".py",
   "mimetype": "text/x-python",
   "name": "python",
   "nbconvert_exporter": "python",
   "pygments_lexer": "ipython3",
   "version": "3.5.2"
  }
 },
 "nbformat": 4,
 "nbformat_minor": 2
}
